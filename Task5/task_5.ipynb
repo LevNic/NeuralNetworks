{
  "nbformat": 4,
  "nbformat_minor": 0,
  "metadata": {
    "colab": {
      "name": "task_5.ipynb",
      "provenance": []
    },
    "kernelspec": {
      "name": "python3",
      "display_name": "Python 3"
    },
    "accelerator": "GPU"
  },
  "cells": [
    {
      "cell_type": "code",
      "metadata": {
        "id": "_VwyQ-tG0Yj9",
        "colab_type": "code",
        "colab": {
          "base_uri": "https://localhost:8080/",
          "height": 136
        },
        "outputId": "4ec7f345-0f7e-4d6b-b362-cb77a3251421"
      },
      "source": [
        "!pip install holidays"
      ],
      "execution_count": 1,
      "outputs": [
        {
          "output_type": "stream",
          "text": [
            "Requirement already satisfied: holidays in /usr/local/lib/python3.6/dist-packages (0.10.3)\n",
            "Requirement already satisfied: convertdate in /usr/local/lib/python3.6/dist-packages (from holidays) (2.2.2)\n",
            "Requirement already satisfied: six in /usr/local/lib/python3.6/dist-packages (from holidays) (1.15.0)\n",
            "Requirement already satisfied: python-dateutil in /usr/local/lib/python3.6/dist-packages (from holidays) (2.8.1)\n",
            "Requirement already satisfied: korean-lunar-calendar in /usr/local/lib/python3.6/dist-packages (from holidays) (0.2.1)\n",
            "Requirement already satisfied: pymeeus<=1,>=0.3.6 in /usr/local/lib/python3.6/dist-packages (from convertdate->holidays) (0.3.7)\n",
            "Requirement already satisfied: pytz>=2014.10 in /usr/local/lib/python3.6/dist-packages (from convertdate->holidays) (2018.9)\n"
          ],
          "name": "stdout"
        }
      ]
    },
    {
      "cell_type": "code",
      "metadata": {
        "id": "ZuRpk3-eRqaN",
        "colab_type": "code",
        "colab": {}
      },
      "source": [
        "import holidays\n",
        "import pandas as pd\n",
        "import matplotlib.pyplot as plt\n",
        "import tensorflow.keras as keras\n",
        "import numpy as np\n",
        "\n",
        "from tensorflow.keras import utils\n",
        "from tensorflow.keras.optimizers import Adam\n",
        "from tensorflow.keras.models import Sequential, Model\n",
        "from tensorflow.keras.layers import concatenate, Input, Dense, Dropout, BatchNormalization, Flatten, Conv1D, Conv2D, LSTM\n",
        "from tensorflow.keras.callbacks import EarlyStopping\n",
        "from datetime import timedelta\n",
        "\n",
        "from google.colab import files\n",
        "from sklearn.preprocessing import StandardScaler, MinMaxScaler\n",
        "\n",
        "%matplotlib inline"
      ],
      "execution_count": 2,
      "outputs": []
    },
    {
      "cell_type": "code",
      "metadata": {
        "id": "rwO4_iJpg57Q",
        "colab_type": "code",
        "colab": {}
      },
      "source": [
        "calendar = holidays.RU(years =[2016,2020])"
      ],
      "execution_count": 3,
      "outputs": []
    },
    {
      "cell_type": "code",
      "metadata": {
        "id": "E6RppxCkXrLI",
        "colab_type": "code",
        "colab": {}
      },
      "source": [
        "# files.upload()\n",
        "# !ls"
      ],
      "execution_count": 4,
      "outputs": []
    },
    {
      "cell_type": "code",
      "metadata": {
        "id": "c2gC518oX3WW",
        "colab_type": "code",
        "colab": {
          "base_uri": "https://localhost:8080/",
          "height": 204
        },
        "outputId": "02b3594b-e352-4e64-ce27-7e299d249dd1"
      },
      "source": [
        "# Файл с курсом евро относительно доллара на торгах на московской бирже с 01.01.2016 по 02.09.2020 г.\n",
        "df = pd.read_csv('EURUSD000TOD_160101_200901.csv', sep = ',', parse_dates=[0])\n",
        "df.head()"
      ],
      "execution_count": 67,
      "outputs": [
        {
          "output_type": "execute_result",
          "data": {
            "text/html": [
              "<div>\n",
              "<style scoped>\n",
              "    .dataframe tbody tr th:only-of-type {\n",
              "        vertical-align: middle;\n",
              "    }\n",
              "\n",
              "    .dataframe tbody tr th {\n",
              "        vertical-align: top;\n",
              "    }\n",
              "\n",
              "    .dataframe thead th {\n",
              "        text-align: right;\n",
              "    }\n",
              "</style>\n",
              "<table border=\"1\" class=\"dataframe\">\n",
              "  <thead>\n",
              "    <tr style=\"text-align: right;\">\n",
              "      <th></th>\n",
              "      <th>&lt;DATE&gt;</th>\n",
              "      <th>&lt;TIME&gt;</th>\n",
              "      <th>&lt;OPEN&gt;</th>\n",
              "      <th>&lt;HIGH&gt;</th>\n",
              "      <th>&lt;LOW&gt;</th>\n",
              "      <th>&lt;CLOSE&gt;</th>\n",
              "      <th>&lt;VOL&gt;</th>\n",
              "    </tr>\n",
              "  </thead>\n",
              "  <tbody>\n",
              "    <tr>\n",
              "      <th>0</th>\n",
              "      <td>2016-01-11</td>\n",
              "      <td>0</td>\n",
              "      <td>1.09350</td>\n",
              "      <td>1.09355</td>\n",
              "      <td>1.08685</td>\n",
              "      <td>1.08840</td>\n",
              "      <td>10767000</td>\n",
              "    </tr>\n",
              "    <tr>\n",
              "      <th>1</th>\n",
              "      <td>2016-01-12</td>\n",
              "      <td>0</td>\n",
              "      <td>1.08960</td>\n",
              "      <td>1.09090</td>\n",
              "      <td>1.08500</td>\n",
              "      <td>1.08725</td>\n",
              "      <td>880000</td>\n",
              "    </tr>\n",
              "    <tr>\n",
              "      <th>2</th>\n",
              "      <td>2016-01-13</td>\n",
              "      <td>0</td>\n",
              "      <td>1.08295</td>\n",
              "      <td>1.08420</td>\n",
              "      <td>1.08035</td>\n",
              "      <td>1.08300</td>\n",
              "      <td>15532000</td>\n",
              "    </tr>\n",
              "    <tr>\n",
              "      <th>3</th>\n",
              "      <td>2016-01-14</td>\n",
              "      <td>0</td>\n",
              "      <td>1.08590</td>\n",
              "      <td>1.09425</td>\n",
              "      <td>1.08590</td>\n",
              "      <td>1.09400</td>\n",
              "      <td>961000</td>\n",
              "    </tr>\n",
              "    <tr>\n",
              "      <th>4</th>\n",
              "      <td>2016-01-15</td>\n",
              "      <td>0</td>\n",
              "      <td>1.08800</td>\n",
              "      <td>1.09215</td>\n",
              "      <td>1.08800</td>\n",
              "      <td>1.08950</td>\n",
              "      <td>849000</td>\n",
              "    </tr>\n",
              "  </tbody>\n",
              "</table>\n",
              "</div>"
            ],
            "text/plain": [
              "      <DATE>  <TIME>   <OPEN>   <HIGH>    <LOW>  <CLOSE>     <VOL>\n",
              "0 2016-01-11       0  1.09350  1.09355  1.08685  1.08840  10767000\n",
              "1 2016-01-12       0  1.08960  1.09090  1.08500  1.08725    880000\n",
              "2 2016-01-13       0  1.08295  1.08420  1.08035  1.08300  15532000\n",
              "3 2016-01-14       0  1.08590  1.09425  1.08590  1.09400    961000\n",
              "4 2016-01-15       0  1.08800  1.09215  1.08800  1.08950    849000"
            ]
          },
          "metadata": {
            "tags": []
          },
          "execution_count": 67
        }
      ]
    },
    {
      "cell_type": "code",
      "metadata": {
        "id": "b3Z9Nor2YRbO",
        "colab_type": "code",
        "colab": {
          "base_uri": "https://localhost:8080/",
          "height": 204
        },
        "outputId": "e9e2d91c-d026-4aed-a1e2-89efa4705026"
      },
      "source": [
        "df.drop(columns='<TIME>', inplace=True)\n",
        "df.rename(columns={'<DATE>': 'date','<OPEN>': 'open', '<HIGH>': 'high', '<LOW>': 'low', '<CLOSE>': 'close', '<VOL>': 'vol'}, inplace=True)\n",
        "df.tail()"
      ],
      "execution_count": 68,
      "outputs": [
        {
          "output_type": "execute_result",
          "data": {
            "text/html": [
              "<div>\n",
              "<style scoped>\n",
              "    .dataframe tbody tr th:only-of-type {\n",
              "        vertical-align: middle;\n",
              "    }\n",
              "\n",
              "    .dataframe tbody tr th {\n",
              "        vertical-align: top;\n",
              "    }\n",
              "\n",
              "    .dataframe thead th {\n",
              "        text-align: right;\n",
              "    }\n",
              "</style>\n",
              "<table border=\"1\" class=\"dataframe\">\n",
              "  <thead>\n",
              "    <tr style=\"text-align: right;\">\n",
              "      <th></th>\n",
              "      <th>date</th>\n",
              "      <th>open</th>\n",
              "      <th>high</th>\n",
              "      <th>low</th>\n",
              "      <th>close</th>\n",
              "      <th>vol</th>\n",
              "    </tr>\n",
              "  </thead>\n",
              "  <tbody>\n",
              "    <tr>\n",
              "      <th>1088</th>\n",
              "      <td>2020-08-27</td>\n",
              "      <td>1.18250</td>\n",
              "      <td>1.18500</td>\n",
              "      <td>1.17970</td>\n",
              "      <td>1.18130</td>\n",
              "      <td>7377000</td>\n",
              "    </tr>\n",
              "    <tr>\n",
              "      <th>1089</th>\n",
              "      <td>2020-08-28</td>\n",
              "      <td>1.18678</td>\n",
              "      <td>1.19199</td>\n",
              "      <td>1.18678</td>\n",
              "      <td>1.19080</td>\n",
              "      <td>7171000</td>\n",
              "    </tr>\n",
              "    <tr>\n",
              "      <th>1090</th>\n",
              "      <td>2020-08-31</td>\n",
              "      <td>1.20000</td>\n",
              "      <td>1.20022</td>\n",
              "      <td>1.18202</td>\n",
              "      <td>1.19399</td>\n",
              "      <td>3438000</td>\n",
              "    </tr>\n",
              "    <tr>\n",
              "      <th>1091</th>\n",
              "      <td>2020-09-01</td>\n",
              "      <td>1.18601</td>\n",
              "      <td>1.19950</td>\n",
              "      <td>1.18600</td>\n",
              "      <td>1.19900</td>\n",
              "      <td>2549000</td>\n",
              "    </tr>\n",
              "    <tr>\n",
              "      <th>1092</th>\n",
              "      <td>2020-09-02</td>\n",
              "      <td>1.19000</td>\n",
              "      <td>1.19000</td>\n",
              "      <td>1.18504</td>\n",
              "      <td>1.18539</td>\n",
              "      <td>3046000</td>\n",
              "    </tr>\n",
              "  </tbody>\n",
              "</table>\n",
              "</div>"
            ],
            "text/plain": [
              "           date     open     high      low    close      vol\n",
              "1088 2020-08-27  1.18250  1.18500  1.17970  1.18130  7377000\n",
              "1089 2020-08-28  1.18678  1.19199  1.18678  1.19080  7171000\n",
              "1090 2020-08-31  1.20000  1.20022  1.18202  1.19399  3438000\n",
              "1091 2020-09-01  1.18601  1.19950  1.18600  1.19900  2549000\n",
              "1092 2020-09-02  1.19000  1.19000  1.18504  1.18539  3046000"
            ]
          },
          "metadata": {
            "tags": []
          },
          "execution_count": 68
        }
      ]
    },
    {
      "cell_type": "code",
      "metadata": {
        "id": "TWKQ4m6n0OTs",
        "colab_type": "code",
        "colab": {}
      },
      "source": [
        "#инициализировали объект календарь\n",
        "\n",
        "one_day = timedelta(days=1)\n",
        "df['is_prev_holiday'] = df['date'].isin([( d - one_day ) for d in calendar.keys()])\n",
        "df['is_next_holiday'] = df['date'].isin([( d + one_day ) for d in calendar.keys()])\n",
        "df['is_prev_holiday'] = df['is_prev_holiday'].astype('uint8')\n",
        "df['is_next_holiday'] = df['is_next_holiday'].astype('uint8')"
      ],
      "execution_count": 69,
      "outputs": []
    },
    {
      "cell_type": "code",
      "metadata": {
        "id": "CH1L51PaasTN",
        "colab_type": "code",
        "colab": {
          "base_uri": "https://localhost:8080/",
          "height": 235
        },
        "outputId": "d9ef9b23-9b56-494f-96aa-48dc3b5ea5ec"
      },
      "source": [
        "df['year'] = df['date'].dt.year\n",
        "df['month'] = df['date'].dt.month\n",
        "df['weekofyear'] = df['date'].dt.weekofyear\n",
        "df['dayofmonth'] = df['date'].dt.day\n",
        "df['quarter'] = df['date'].dt.quarter\n",
        "df['dayofyear'] = df['date'].dt.dayofyear\n",
        "df['dayofweek'] = df['date'].dt.dayofweek\n",
        "df.index = df['date']\n",
        "df = df.drop('date', axis = 1)\n",
        "df.head()"
      ],
      "execution_count": 70,
      "outputs": [
        {
          "output_type": "execute_result",
          "data": {
            "text/html": [
              "<div>\n",
              "<style scoped>\n",
              "    .dataframe tbody tr th:only-of-type {\n",
              "        vertical-align: middle;\n",
              "    }\n",
              "\n",
              "    .dataframe tbody tr th {\n",
              "        vertical-align: top;\n",
              "    }\n",
              "\n",
              "    .dataframe thead th {\n",
              "        text-align: right;\n",
              "    }\n",
              "</style>\n",
              "<table border=\"1\" class=\"dataframe\">\n",
              "  <thead>\n",
              "    <tr style=\"text-align: right;\">\n",
              "      <th></th>\n",
              "      <th>open</th>\n",
              "      <th>high</th>\n",
              "      <th>low</th>\n",
              "      <th>close</th>\n",
              "      <th>vol</th>\n",
              "      <th>is_prev_holiday</th>\n",
              "      <th>is_next_holiday</th>\n",
              "      <th>year</th>\n",
              "      <th>month</th>\n",
              "      <th>weekofyear</th>\n",
              "      <th>dayofmonth</th>\n",
              "      <th>quarter</th>\n",
              "      <th>dayofyear</th>\n",
              "      <th>dayofweek</th>\n",
              "    </tr>\n",
              "    <tr>\n",
              "      <th>date</th>\n",
              "      <th></th>\n",
              "      <th></th>\n",
              "      <th></th>\n",
              "      <th></th>\n",
              "      <th></th>\n",
              "      <th></th>\n",
              "      <th></th>\n",
              "      <th></th>\n",
              "      <th></th>\n",
              "      <th></th>\n",
              "      <th></th>\n",
              "      <th></th>\n",
              "      <th></th>\n",
              "      <th></th>\n",
              "    </tr>\n",
              "  </thead>\n",
              "  <tbody>\n",
              "    <tr>\n",
              "      <th>2016-01-11</th>\n",
              "      <td>1.09350</td>\n",
              "      <td>1.09355</td>\n",
              "      <td>1.08685</td>\n",
              "      <td>1.08840</td>\n",
              "      <td>10767000</td>\n",
              "      <td>0</td>\n",
              "      <td>0</td>\n",
              "      <td>2016</td>\n",
              "      <td>1</td>\n",
              "      <td>2</td>\n",
              "      <td>11</td>\n",
              "      <td>1</td>\n",
              "      <td>11</td>\n",
              "      <td>0</td>\n",
              "    </tr>\n",
              "    <tr>\n",
              "      <th>2016-01-12</th>\n",
              "      <td>1.08960</td>\n",
              "      <td>1.09090</td>\n",
              "      <td>1.08500</td>\n",
              "      <td>1.08725</td>\n",
              "      <td>880000</td>\n",
              "      <td>0</td>\n",
              "      <td>0</td>\n",
              "      <td>2016</td>\n",
              "      <td>1</td>\n",
              "      <td>2</td>\n",
              "      <td>12</td>\n",
              "      <td>1</td>\n",
              "      <td>12</td>\n",
              "      <td>1</td>\n",
              "    </tr>\n",
              "    <tr>\n",
              "      <th>2016-01-13</th>\n",
              "      <td>1.08295</td>\n",
              "      <td>1.08420</td>\n",
              "      <td>1.08035</td>\n",
              "      <td>1.08300</td>\n",
              "      <td>15532000</td>\n",
              "      <td>0</td>\n",
              "      <td>0</td>\n",
              "      <td>2016</td>\n",
              "      <td>1</td>\n",
              "      <td>2</td>\n",
              "      <td>13</td>\n",
              "      <td>1</td>\n",
              "      <td>13</td>\n",
              "      <td>2</td>\n",
              "    </tr>\n",
              "    <tr>\n",
              "      <th>2016-01-14</th>\n",
              "      <td>1.08590</td>\n",
              "      <td>1.09425</td>\n",
              "      <td>1.08590</td>\n",
              "      <td>1.09400</td>\n",
              "      <td>961000</td>\n",
              "      <td>0</td>\n",
              "      <td>0</td>\n",
              "      <td>2016</td>\n",
              "      <td>1</td>\n",
              "      <td>2</td>\n",
              "      <td>14</td>\n",
              "      <td>1</td>\n",
              "      <td>14</td>\n",
              "      <td>3</td>\n",
              "    </tr>\n",
              "    <tr>\n",
              "      <th>2016-01-15</th>\n",
              "      <td>1.08800</td>\n",
              "      <td>1.09215</td>\n",
              "      <td>1.08800</td>\n",
              "      <td>1.08950</td>\n",
              "      <td>849000</td>\n",
              "      <td>0</td>\n",
              "      <td>0</td>\n",
              "      <td>2016</td>\n",
              "      <td>1</td>\n",
              "      <td>2</td>\n",
              "      <td>15</td>\n",
              "      <td>1</td>\n",
              "      <td>15</td>\n",
              "      <td>4</td>\n",
              "    </tr>\n",
              "  </tbody>\n",
              "</table>\n",
              "</div>"
            ],
            "text/plain": [
              "               open     high      low  ...  quarter  dayofyear  dayofweek\n",
              "date                                   ...                               \n",
              "2016-01-11  1.09350  1.09355  1.08685  ...        1         11          0\n",
              "2016-01-12  1.08960  1.09090  1.08500  ...        1         12          1\n",
              "2016-01-13  1.08295  1.08420  1.08035  ...        1         13          2\n",
              "2016-01-14  1.08590  1.09425  1.08590  ...        1         14          3\n",
              "2016-01-15  1.08800  1.09215  1.08800  ...        1         15          4\n",
              "\n",
              "[5 rows x 14 columns]"
            ]
          },
          "metadata": {
            "tags": []
          },
          "execution_count": 70
        }
      ]
    },
    {
      "cell_type": "code",
      "metadata": {
        "id": "jJXVSQyJxelz",
        "colab_type": "code",
        "colab": {
          "base_uri": "https://localhost:8080/",
          "height": 34
        },
        "outputId": "926bb621-838f-4be8-e672-0c833e5f09d8"
      },
      "source": [
        "target_name = 'high'\n",
        "target_index = df.columns.get_loc(target_name)\n",
        "target_index"
      ],
      "execution_count": 71,
      "outputs": [
        {
          "output_type": "execute_result",
          "data": {
            "text/plain": [
              "1"
            ]
          },
          "metadata": {
            "tags": []
          },
          "execution_count": 71
        }
      ]
    },
    {
      "cell_type": "code",
      "metadata": {
        "id": "xsy87koU19P1",
        "colab_type": "code",
        "colab": {
          "base_uri": "https://localhost:8080/",
          "height": 255
        },
        "outputId": "8a14c4ec-1cd0-4b90-cd30-91b8c507f166"
      },
      "source": [
        "data_names = df.columns.to_list()\n",
        "data_names"
      ],
      "execution_count": 72,
      "outputs": [
        {
          "output_type": "execute_result",
          "data": {
            "text/plain": [
              "['open',\n",
              " 'high',\n",
              " 'low',\n",
              " 'close',\n",
              " 'vol',\n",
              " 'is_prev_holiday',\n",
              " 'is_next_holiday',\n",
              " 'year',\n",
              " 'month',\n",
              " 'weekofyear',\n",
              " 'dayofmonth',\n",
              " 'quarter',\n",
              " 'dayofyear',\n",
              " 'dayofweek']"
            ]
          },
          "metadata": {
            "tags": []
          },
          "execution_count": 72
        }
      ]
    },
    {
      "cell_type": "code",
      "metadata": {
        "id": "ryF8giqdY3tw",
        "colab_type": "code",
        "colab": {
          "base_uri": "https://localhost:8080/",
          "height": 34
        },
        "outputId": "9b38858c-5867-4426-d0c2-a5e89472d127"
      },
      "source": [
        "# Период, который будем использовать для осуществления прогноз\n",
        "\n",
        "history_for_predict = 5\n",
        "\n",
        "# шаг на котором будет осуществляться прогноз прогноза\n",
        "prediction_step = 1\n",
        "\n",
        "# Сдвиг для прогноза\n",
        "\n",
        "target_shift = history_for_predict + prediction_step\n",
        "\n",
        "past_history = 30\n",
        "future_history = 7\n",
        "split_point = df.shape[0] - past_history - future_history\n",
        "split_point"
      ],
      "execution_count": 73,
      "outputs": [
        {
          "output_type": "execute_result",
          "data": {
            "text/plain": [
              "1056"
            ]
          },
          "metadata": {
            "tags": []
          },
          "execution_count": 73
        }
      ]
    },
    {
      "cell_type": "code",
      "metadata": {
        "id": "gfokb6d18Afm",
        "colab_type": "code",
        "colab": {}
      },
      "source": [
        "# Нормализация данных\n",
        "\n",
        "def normalize(data, train_split):\n",
        "    data_mean = data[:train_split - 1].mean(axis=0)\n",
        "    data_std = data[:train_split - 1].std(axis=0)\n",
        "    return (data - data_mean) / data_std\n",
        "\n",
        "# Разделение данных на тренировочную и тестовую части\n",
        "\n",
        "def split_data(data, split_point, target_shift, target_name):\n",
        "  x_train = data.iloc[0 : split_point - 1 - target_shift].copy()\n",
        "  x_test = data.iloc[split_point: -target_shift].copy()\n",
        "  y_train = data.iloc[target_shift : split_point - 1][target_name].copy()\n",
        "  y_test = data.iloc[split_point + target_shift:][target_name].copy()\n",
        "  return x_train, x_test, y_train, y_test\n",
        "  "
      ],
      "execution_count": 74,
      "outputs": []
    },
    {
      "cell_type": "code",
      "metadata": {
        "id": "TOOalg7NVkiY",
        "colab_type": "code",
        "colab": {
          "base_uri": "https://localhost:8080/",
          "height": 204
        },
        "outputId": "e2949b35-7e7c-414f-8e45-e6ee73c02092"
      },
      "source": [
        "normalized_df = pd.DataFrame(normalize(df.values, split_point), columns=data_names)\n",
        "normalized_df.head()"
      ],
      "execution_count": 75,
      "outputs": [
        {
          "output_type": "execute_result",
          "data": {
            "text/html": [
              "<div>\n",
              "<style scoped>\n",
              "    .dataframe tbody tr th:only-of-type {\n",
              "        vertical-align: middle;\n",
              "    }\n",
              "\n",
              "    .dataframe tbody tr th {\n",
              "        vertical-align: top;\n",
              "    }\n",
              "\n",
              "    .dataframe thead th {\n",
              "        text-align: right;\n",
              "    }\n",
              "</style>\n",
              "<table border=\"1\" class=\"dataframe\">\n",
              "  <thead>\n",
              "    <tr style=\"text-align: right;\">\n",
              "      <th></th>\n",
              "      <th>open</th>\n",
              "      <th>high</th>\n",
              "      <th>low</th>\n",
              "      <th>close</th>\n",
              "      <th>vol</th>\n",
              "      <th>is_prev_holiday</th>\n",
              "      <th>is_next_holiday</th>\n",
              "      <th>year</th>\n",
              "      <th>month</th>\n",
              "      <th>weekofyear</th>\n",
              "      <th>dayofmonth</th>\n",
              "      <th>quarter</th>\n",
              "      <th>dayofyear</th>\n",
              "      <th>dayofweek</th>\n",
              "    </tr>\n",
              "  </thead>\n",
              "  <tbody>\n",
              "    <tr>\n",
              "      <th>0</th>\n",
              "      <td>-0.875480</td>\n",
              "      <td>-0.916649</td>\n",
              "      <td>-0.988760</td>\n",
              "      <td>-0.989207</td>\n",
              "      <td>-0.106862</td>\n",
              "      <td>-0.061692</td>\n",
              "      <td>-0.061692</td>\n",
              "      <td>-1.349</td>\n",
              "      <td>-1.59151</td>\n",
              "      <td>-1.641758</td>\n",
              "      <td>-0.591871</td>\n",
              "      <td>-1.313475</td>\n",
              "      <td>-1.636344</td>\n",
              "      <td>-1.499469</td>\n",
              "    </tr>\n",
              "    <tr>\n",
              "      <th>1</th>\n",
              "      <td>-0.966231</td>\n",
              "      <td>-0.978192</td>\n",
              "      <td>-1.031885</td>\n",
              "      <td>-1.015941</td>\n",
              "      <td>-0.974512</td>\n",
              "      <td>-0.061692</td>\n",
              "      <td>-0.061692</td>\n",
              "      <td>-1.349</td>\n",
              "      <td>-1.59151</td>\n",
              "      <td>-1.641758</td>\n",
              "      <td>-0.476301</td>\n",
              "      <td>-1.313475</td>\n",
              "      <td>-1.626540</td>\n",
              "      <td>-0.775800</td>\n",
              "    </tr>\n",
              "    <tr>\n",
              "      <th>2</th>\n",
              "      <td>-1.120972</td>\n",
              "      <td>-1.133792</td>\n",
              "      <td>-1.140280</td>\n",
              "      <td>-1.114737</td>\n",
              "      <td>0.311298</td>\n",
              "      <td>-0.061692</td>\n",
              "      <td>-0.061692</td>\n",
              "      <td>-1.349</td>\n",
              "      <td>-1.59151</td>\n",
              "      <td>-1.641758</td>\n",
              "      <td>-0.360731</td>\n",
              "      <td>-1.313475</td>\n",
              "      <td>-1.616737</td>\n",
              "      <td>-0.052132</td>\n",
              "    </tr>\n",
              "    <tr>\n",
              "      <th>3</th>\n",
              "      <td>-1.052327</td>\n",
              "      <td>-0.900392</td>\n",
              "      <td>-1.010905</td>\n",
              "      <td>-0.859028</td>\n",
              "      <td>-0.967404</td>\n",
              "      <td>-0.061692</td>\n",
              "      <td>-0.061692</td>\n",
              "      <td>-1.349</td>\n",
              "      <td>-1.59151</td>\n",
              "      <td>-1.641758</td>\n",
              "      <td>-0.245161</td>\n",
              "      <td>-1.313475</td>\n",
              "      <td>-1.606933</td>\n",
              "      <td>0.671537</td>\n",
              "    </tr>\n",
              "    <tr>\n",
              "      <th>4</th>\n",
              "      <td>-1.003462</td>\n",
              "      <td>-0.949162</td>\n",
              "      <td>-0.961953</td>\n",
              "      <td>-0.963637</td>\n",
              "      <td>-0.977233</td>\n",
              "      <td>-0.061692</td>\n",
              "      <td>-0.061692</td>\n",
              "      <td>-1.349</td>\n",
              "      <td>-1.59151</td>\n",
              "      <td>-1.641758</td>\n",
              "      <td>-0.129592</td>\n",
              "      <td>-1.313475</td>\n",
              "      <td>-1.597129</td>\n",
              "      <td>1.395206</td>\n",
              "    </tr>\n",
              "  </tbody>\n",
              "</table>\n",
              "</div>"
            ],
            "text/plain": [
              "       open      high       low  ...   quarter  dayofyear  dayofweek\n",
              "0 -0.875480 -0.916649 -0.988760  ... -1.313475  -1.636344  -1.499469\n",
              "1 -0.966231 -0.978192 -1.031885  ... -1.313475  -1.626540  -0.775800\n",
              "2 -1.120972 -1.133792 -1.140280  ... -1.313475  -1.616737  -0.052132\n",
              "3 -1.052327 -0.900392 -1.010905  ... -1.313475  -1.606933   0.671537\n",
              "4 -1.003462 -0.949162 -0.961953  ... -1.313475  -1.597129   1.395206\n",
              "\n",
              "[5 rows x 14 columns]"
            ]
          },
          "metadata": {
            "tags": []
          },
          "execution_count": 75
        }
      ]
    },
    {
      "cell_type": "code",
      "metadata": {
        "id": "j79HOc3djp96",
        "colab_type": "code",
        "colab": {}
      },
      "source": [
        "x_train, x_test, y_train, y_test = split_data(normalized_df, split_point, target_shift, target_name)"
      ],
      "execution_count": 76,
      "outputs": []
    },
    {
      "cell_type": "code",
      "metadata": {
        "id": "tG4MK4NX0O62",
        "colab_type": "code",
        "colab": {
          "base_uri": "https://localhost:8080/",
          "height": 85
        },
        "outputId": "4df8af01-7bef-4ff7-8fb8-85fb9cd6eee4"
      },
      "source": [
        "print(x_train.shape)\n",
        "print(x_test.shape)\n",
        "print(y_train.shape)\n",
        "print(y_test.shape)"
      ],
      "execution_count": 77,
      "outputs": [
        {
          "output_type": "stream",
          "text": [
            "(1049, 14)\n",
            "(31, 14)\n",
            "(1049,)\n",
            "(31,)\n"
          ],
          "name": "stdout"
        }
      ]
    },
    {
      "cell_type": "code",
      "metadata": {
        "id": "edIfb2RC0rH1",
        "colab_type": "code",
        "colab": {
          "base_uri": "https://localhost:8080/",
          "height": 350
        },
        "outputId": "96d8d695-050f-4466-da71-373ff330e7d4"
      },
      "source": [
        "plt.figure(figsize=(10,5))\n",
        "plt.plot(df.index[target_shift:split_point - 1],y_train)\n",
        "plt.plot(df.index[split_point+target_shift:],y_test)\n",
        "plt.grid('on')\n",
        "plt.xlabel('t, дни')\n",
        "plt.ylabel('$')\n",
        "plt.title('стоимость EURO в 2016-2020')\n",
        "plt.show()"
      ],
      "execution_count": 78,
      "outputs": [
        {
          "output_type": "display_data",
          "data": {
            "image/png": "[encoded data removed]",
            "text/plain": [
              "<Figure size 720x360 with 1 Axes>"
            ]
          },
          "metadata": {
            "tags": [],
            "needs_background": "light"
          }
        }
      ]
    },
    {
      "cell_type": "code",
      "metadata": {
        "id": "8QxQsi8u153J",
        "colab_type": "code",
        "colab": {}
      },
      "source": [
        "# параметры модели для обучения\n",
        "\n",
        "learning_rate = 0.001\n",
        "batch_size = 32\n",
        "epochs = 10"
      ],
      "execution_count": 79,
      "outputs": []
    },
    {
      "cell_type": "code",
      "metadata": {
        "id": "n1kxSc2eaKlu",
        "colab_type": "code",
        "colab": {}
      },
      "source": [
        "# Используем механизм формирования пакетов для обучения\n",
        "\n",
        "dataset_train = keras.preprocessing.timeseries_dataset_from_array(\n",
        "    x_train,\n",
        "    y_train,\n",
        "    sequence_length=history_for_predict,\n",
        "    sampling_rate=1,\n",
        "    batch_size=batch_size,\n",
        ")\n",
        "dataset_val = keras.preprocessing.timeseries_dataset_from_array(\n",
        "    x_test,\n",
        "    y_test,\n",
        "    sequence_length=history_for_predict,\n",
        "    sampling_rate=1,\n",
        "    batch_size=batch_size,\n",
        ")"
      ],
      "execution_count": 80,
      "outputs": []
    },
    {
      "cell_type": "code",
      "metadata": {
        "id": "Gt-Jf8yhbyoD",
        "colab_type": "code",
        "colab": {
          "base_uri": "https://localhost:8080/",
          "height": 51
        },
        "outputId": "26c1dd8c-87fa-4fc7-ebb2-6713f2fe61d9"
      },
      "source": [
        "# Посмотрим, что получилось\n",
        "\n",
        "for batch in dataset_train.take(2):\n",
        "    inputs, targets = batch\n",
        "\n",
        "print(\"Input shape:\", inputs.numpy().shape)\n",
        "print(\"Target shape:\", targets.numpy().shape)"
      ],
      "execution_count": 81,
      "outputs": [
        {
          "output_type": "stream",
          "text": [
            "Input shape: (32, 5, 14)\n",
            "Target shape: (32,)\n"
          ],
          "name": "stdout"
        }
      ]
    },
    {
      "cell_type": "code",
      "metadata": {
        "id": "WoQFDvoCb_3m",
        "colab_type": "code",
        "colab": {
          "base_uri": "https://localhost:8080/",
          "height": 34
        },
        "outputId": "9386af1c-3b41-44ea-c6a1-406ea448f258"
      },
      "source": [
        "inputs[2,:,target_index]"
      ],
      "execution_count": 82,
      "outputs": [
        {
          "output_type": "execute_result",
          "data": {
            "text/plain": [
              "<tf.Tensor: shape=(5,), dtype=float64, numpy=array([-1.04437985, -0.79588471, -0.80052948, -0.80749663, -0.36392118])>"
            ]
          },
          "metadata": {
            "tags": []
          },
          "execution_count": 82
        }
      ]
    },
    {
      "cell_type": "code",
      "metadata": {
        "id": "0xi6i1DQcI0v",
        "colab_type": "code",
        "colab": {
          "base_uri": "https://localhost:8080/",
          "height": 34
        },
        "outputId": "5819fa74-e64e-4c46-fbaf-30136f1cdae9"
      },
      "source": [
        "targets[0]"
      ],
      "execution_count": 83,
      "outputs": [
        {
          "output_type": "execute_result",
          "data": {
            "text/plain": [
              "<tf.Tensor: shape=(), dtype=float64, numpy=-0.36392118044234706>"
            ]
          },
          "metadata": {
            "tags": []
          },
          "execution_count": 83
        }
      ]
    },
    {
      "cell_type": "code",
      "metadata": {
        "id": "WFNKO2HshjGV",
        "colab_type": "code",
        "colab": {
          "base_uri": "https://localhost:8080/",
          "height": 357
        },
        "outputId": "92f33809-acbe-4b36-fe0b-16d34f1010da"
      },
      "source": [
        "# Строим сеть : LSTM слои + Conv1D + Dense слой.\n",
        "\n",
        "callback = EarlyStopping(monitor='val_mae', patience=5) # ранний останов\n",
        "\n",
        "model = Sequential()\n",
        "\n",
        "model.add(LSTM(32, input_shape = (inputs.shape[1], inputs.shape[2]), return_sequences=\"True\"))\n",
        "model.add(LSTM(32, return_sequences=\"True\"))\n",
        "model.add(Conv1D(64, 3, activation=\"linear\"))\n",
        "model.add(Conv1D(64, 3, activation=\"linear\"))\n",
        "model.add(Flatten())\n",
        "model.add(Dense(3, activation=\"linear\"))\n",
        "model.add(Dense(1, activation=\"linear\"))\n",
        "\n",
        "model.compile(loss=\"mse\", optimizer=\"adam\", metrics=['mae'])\n",
        "\n",
        "history = model.fit(\n",
        "    dataset_train,\n",
        "    epochs=epochs,\n",
        "    validation_data=dataset_val,\n",
        "    callbacks=[callback])"
      ],
      "execution_count": 84,
      "outputs": [
        {
          "output_type": "stream",
          "text": [
            "Epoch 1/10\n",
            "33/33 [==============================] - 1s 36ms/step - loss: 0.4583 - mae: 0.5320 - val_loss: 0.8820 - val_mae: 0.8469\n",
            "Epoch 2/10\n",
            "33/33 [==============================] - 0s 12ms/step - loss: 0.2427 - mae: 0.3955 - val_loss: 0.6758 - val_mae: 0.8046\n",
            "Epoch 3/10\n",
            "33/33 [==============================] - 0s 13ms/step - loss: 0.2675 - mae: 0.4164 - val_loss: 0.6632 - val_mae: 0.7093\n",
            "Epoch 4/10\n",
            "33/33 [==============================] - 0s 13ms/step - loss: 0.2074 - mae: 0.3711 - val_loss: 0.6122 - val_mae: 0.7647\n",
            "Epoch 5/10\n",
            "33/33 [==============================] - 0s 13ms/step - loss: 0.2524 - mae: 0.3985 - val_loss: 0.4937 - val_mae: 0.5967\n",
            "Epoch 6/10\n",
            "33/33 [==============================] - 0s 13ms/step - loss: 0.1735 - mae: 0.3304 - val_loss: 0.7504 - val_mae: 0.8479\n",
            "Epoch 7/10\n",
            "33/33 [==============================] - 0s 13ms/step - loss: 0.2175 - mae: 0.3747 - val_loss: 0.2674 - val_mae: 0.4456\n",
            "Epoch 8/10\n",
            "33/33 [==============================] - 0s 13ms/step - loss: 0.1500 - mae: 0.3035 - val_loss: 0.7975 - val_mae: 0.8756\n",
            "Epoch 9/10\n",
            "33/33 [==============================] - 0s 14ms/step - loss: 0.2123 - mae: 0.3619 - val_loss: 0.3833 - val_mae: 0.5288\n",
            "Epoch 10/10\n",
            "33/33 [==============================] - 0s 13ms/step - loss: 0.1612 - mae: 0.3160 - val_loss: 0.9186 - val_mae: 0.9424\n"
          ],
          "name": "stdout"
        }
      ]
    },
    {
      "cell_type": "code",
      "metadata": {
        "id": "auoNFgj4Vx7I",
        "colab_type": "code",
        "colab": {
          "base_uri": "https://localhost:8080/",
          "height": 265
        },
        "outputId": "5d4c786d-be66-44cd-9472-55037ceb218f"
      },
      "source": [
        "plt.plot(history.history['mae'][1:], \n",
        "         label='Средняя абсолютная ошибка на обучающем наборе')\n",
        "plt.plot(history.history['val_mae'][1:], \n",
        "         label='Средняя абсолютная ошибка на проверочном наборе')\n",
        "plt.ylabel('Средняя ошибка')\n",
        "plt.legend()\n",
        "plt.show()"
      ],
      "execution_count": 85,
      "outputs": [
        {
          "output_type": "display_data",
          "data": {
            "image/png": "[encoded data removed]",
            "text/plain": [
              "<Figure size 432x288 with 1 Axes>"
            ]
          },
          "metadata": {
            "tags": [],
            "needs_background": "light"
          }
        }
      ]
    },
    {
      "cell_type": "code",
      "metadata": {
        "id": "Y-buvZ6BV7rj",
        "colab_type": "code",
        "colab": {}
      },
      "source": [
        "pred = model.predict(dataset_train).flatten()\n",
        "predVal = model.predict(dataset_val).flatten()"
      ],
      "execution_count": 86,
      "outputs": []
    },
    {
      "cell_type": "code",
      "metadata": {
        "id": "Vos2B-Alc2s2",
        "colab_type": "code",
        "colab": {
          "base_uri": "https://localhost:8080/",
          "height": 334
        },
        "outputId": "21ac1b1b-38de-4b63-e725-6890a90b86aa"
      },
      "source": [
        "plt.figure(figsize=(10,5))\n",
        "plt.grid('on')\n",
        "plt.plot(predVal[prediction_step:], \n",
        "         label='Прогноз')\n",
        "plt.plot(y_test.values.flatten()[:], \n",
        "         label='Базовый ряд')\n",
        "plt.xlabel('Время')\n",
        "plt.ylabel('Значение ')\n",
        "\n",
        "plt.legend()\n",
        "plt.show()"
      ],
      "execution_count": 87,
      "outputs": [
        {
          "output_type": "display_data",
          "data": {
            "image/png": "[encoded data removed]",
            "text/plain": [
              "<Figure size 720x360 with 1 Axes>"
            ]
          },
          "metadata": {
            "tags": [],
            "needs_background": "light"
          }
        }
      ]
    },
    {
      "cell_type": "code",
      "metadata": {
        "id": "nrFaZYJBc-7o",
        "colab_type": "code",
        "colab": {}
      },
      "source": [
        ""
      ],
      "execution_count": null,
      "outputs": []
    }
  ]
}