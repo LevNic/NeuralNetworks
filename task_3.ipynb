{
 "cells": [
  {
   "cell_type": "code",
   "execution_count": 1,
   "metadata": {
    "colab": {
     "base_uri": "https://localhost:8080/",
     "height": 34
    },
    "colab_type": "code",
    "executionInfo": {
     "elapsed": 2540,
     "status": "ok",
     "timestamp": 1599365914457,
     "user": {
      "displayName": "Лев Соловьев",
      "photoUrl": "",
      "userId": "03837274721491259705"
     },
     "user_tz": -300
    },
    "id": "M565UGxOoUkb",
    "outputId": "eb944bc4-4556-454c-cac8-0f7c4be98db9"
   },
   "outputs": [
    {
     "name": "stdout",
     "output_type": "stream",
     "text": [
      "2.3.0\n"
     ]
    }
   ],
   "source": [
    "from __future__ import absolute_import, division, print_function, unicode_literals\n",
    "\n",
    "# TensorFlow and tf.keras\n",
    "import tensorflow as tf\n",
    "from tensorflow import keras\n",
    "\n",
    "# Helper libraries\n",
    "import numpy as np\n",
    "import matplotlib.pyplot as plt\n",
    "\n",
    "print(tf.__version__)"
   ]
  },
  {
   "cell_type": "code",
   "execution_count": 2,
   "metadata": {
    "colab": {
     "base_uri": "https://localhost:8080/",
     "height": 153
    },
    "colab_type": "code",
    "executionInfo": {
     "elapsed": 2345,
     "status": "ok",
     "timestamp": 1599366032393,
     "user": {
      "displayName": "Лев Соловьев",
      "photoUrl": "",
      "userId": "03837274721491259705"
     },
     "user_tz": -300
    },
    "id": "1ddckyrsousX",
    "outputId": "48b8afc6-87a0-44be-8541-62326088482d"
   },
   "outputs": [
    {
     "name": "stdout",
     "output_type": "stream",
     "text": [
      "Downloading data from https://storage.googleapis.com/tensorflow/tf-keras-datasets/train-labels-idx1-ubyte.gz\n",
      "32768/29515 [=================================] - 0s 0us/step\n",
      "Downloading data from https://storage.googleapis.com/tensorflow/tf-keras-datasets/train-images-idx3-ubyte.gz\n",
      "26427392/26421880 [==============================] - 0s 0us/step\n",
      "Downloading data from https://storage.googleapis.com/tensorflow/tf-keras-datasets/t10k-labels-idx1-ubyte.gz\n",
      "8192/5148 [===============================================] - 0s 0us/step\n",
      "Downloading data from https://storage.googleapis.com/tensorflow/tf-keras-datasets/t10k-images-idx3-ubyte.gz\n",
      "4423680/4422102 [==============================] - 0s 0us/step\n"
     ]
    }
   ],
   "source": [
    "fashion_mnist = keras.datasets.fashion_mnist\n",
    "\n",
    "(train_images, train_labels), (test_images, test_labels) = fashion_mnist.load_data()"
   ]
  },
  {
   "cell_type": "code",
   "execution_count": 3,
   "metadata": {
    "colab": {
     "base_uri": "https://localhost:8080/",
     "height": 34
    },
    "colab_type": "code",
    "executionInfo": {
     "elapsed": 802,
     "status": "ok",
     "timestamp": 1599366215808,
     "user": {
      "displayName": "Лев Соловьев",
      "photoUrl": "",
      "userId": "03837274721491259705"
     },
     "user_tz": -300
    },
    "id": "E-1lvA_dpOJ-",
    "outputId": "da344d67-7c32-4eaf-fe5e-58d32008ae90"
   },
   "outputs": [
    {
     "data": {
      "text/plain": [
       "(60000, 28, 28)"
      ]
     },
     "execution_count": 3,
     "metadata": {
      "tags": []
     },
     "output_type": "execute_result"
    }
   ],
   "source": [
    "train_images.shape"
   ]
  },
  {
   "cell_type": "code",
   "execution_count": 4,
   "metadata": {
    "colab": {
     "base_uri": "https://localhost:8080/",
     "height": 34
    },
    "colab_type": "code",
    "executionInfo": {
     "elapsed": 866,
     "status": "ok",
     "timestamp": 1599366265484,
     "user": {
      "displayName": "Лев Соловьев",
      "photoUrl": "",
      "userId": "03837274721491259705"
     },
     "user_tz": -300
    },
    "id": "KfGgRZZzp7T9",
    "outputId": "655dacd7-5d9a-43a3-827c-94fbadc7f6bf"
   },
   "outputs": [
    {
     "data": {
      "text/plain": [
       "array([9, 0, 0, ..., 3, 0, 5], dtype=uint8)"
      ]
     },
     "execution_count": 4,
     "metadata": {
      "tags": []
     },
     "output_type": "execute_result"
    }
   ],
   "source": [
    "train_labels"
   ]
  },
  {
   "cell_type": "code",
   "execution_count": 5,
   "metadata": {
    "colab": {
     "base_uri": "https://localhost:8080/",
     "height": 34
    },
    "colab_type": "code",
    "executionInfo": {
     "elapsed": 981,
     "status": "ok",
     "timestamp": 1599366288215,
     "user": {
      "displayName": "Лев Соловьев",
      "photoUrl": "",
      "userId": "03837274721491259705"
     },
     "user_tz": -300
    },
    "id": "cTMMeQaAqHbj",
    "outputId": "213fbce3-279b-434c-ea6e-ed8fde578480"
   },
   "outputs": [
    {
     "data": {
      "text/plain": [
       "60000"
      ]
     },
     "execution_count": 5,
     "metadata": {
      "tags": []
     },
     "output_type": "execute_result"
    }
   ],
   "source": [
    "len(train_labels)"
   ]
  },
  {
   "cell_type": "code",
   "execution_count": 6,
   "metadata": {
    "colab": {
     "base_uri": "https://localhost:8080/",
     "height": 34
    },
    "colab_type": "code",
    "executionInfo": {
     "elapsed": 960,
     "status": "ok",
     "timestamp": 1599366317300,
     "user": {
      "displayName": "Лев Соловьев",
      "photoUrl": "",
      "userId": "03837274721491259705"
     },
     "user_tz": -300
    },
    "id": "XSHUSfEaqM8e",
    "outputId": "629f74ce-be80-475a-9c1c-42bec3fb2fa6"
   },
   "outputs": [
    {
     "data": {
      "text/plain": [
       "(10000, 28, 28)"
      ]
     },
     "execution_count": 6,
     "metadata": {
      "tags": []
     },
     "output_type": "execute_result"
    }
   ],
   "source": [
    "test_images.shape"
   ]
  },
  {
   "cell_type": "code",
   "execution_count": 7,
   "metadata": {
    "colab": {
     "base_uri": "https://localhost:8080/",
     "height": 34
    },
    "colab_type": "code",
    "executionInfo": {
     "elapsed": 882,
     "status": "ok",
     "timestamp": 1599366331223,
     "user": {
      "displayName": "Лев Соловьев",
      "photoUrl": "",
      "userId": "03837274721491259705"
     },
     "user_tz": -300
    },
    "id": "RNjNeWK7qUDq",
    "outputId": "710e06e8-5245-4378-ba21-2d498e54d3d4"
   },
   "outputs": [
    {
     "data": {
      "text/plain": [
       "10000"
      ]
     },
     "execution_count": 7,
     "metadata": {
      "tags": []
     },
     "output_type": "execute_result"
    }
   ],
   "source": [
    "len(test_labels)"
   ]
  },
  {
   "cell_type": "code",
   "execution_count": 8,
   "metadata": {
    "colab": {
     "base_uri": "https://localhost:8080/",
     "height": 265
    },
    "colab_type": "code",
    "executionInfo": {
     "elapsed": 1063,
     "status": "ok",
     "timestamp": 1599366389293,
     "user": {
      "displayName": "Лев Соловьев",
      "photoUrl": "",
      "userId": "03837274721491259705"
     },
     "user_tz": -300
    },
    "id": "9FuINUjsqXeI",
    "outputId": "951679ee-7775-4989-d9c5-eedebb313d05"
   },
   "outputs": [
    {
     "data": {
      "image/png": "[encoded data removed]",
      "text/plain": [
       "<Figure size 432x288 with 2 Axes>"
      ]
     },
     "metadata": {
      "needs_background": "light",
      "tags": []
     },
     "output_type": "display_data"
    }
   ],
   "source": [
    "plt.figure()\n",
    "plt.imshow(train_images[0])\n",
    "plt.colorbar()\n",
    "plt.grid(False)\n",
    "plt.show()"
   ]
  },
  {
   "cell_type": "code",
   "execution_count": 9,
   "metadata": {
    "colab": {},
    "colab_type": "code",
    "executionInfo": {
     "elapsed": 840,
     "status": "ok",
     "timestamp": 1599366444715,
     "user": {
      "displayName": "Лев Соловьев",
      "photoUrl": "",
      "userId": "03837274721491259705"
     },
     "user_tz": -300
    },
    "id": "lTvRVq-Lqlmh"
   },
   "outputs": [],
   "source": [
    "train_images = train_images / 255.0\n",
    "\n",
    "test_images = test_images / 255.0"
   ]
  },
  {
   "cell_type": "code",
   "execution_count": 11,
   "metadata": {
    "colab": {},
    "colab_type": "code",
    "executionInfo": {
     "elapsed": 906,
     "status": "ok",
     "timestamp": 1599366545337,
     "user": {
      "displayName": "Лев Соловьев",
      "photoUrl": "",
      "userId": "03837274721491259705"
     },
     "user_tz": -300
    },
    "id": "YCIhxw2srK5B"
   },
   "outputs": [],
   "source": [
    "class_names = ['T-shirt/top', 'Trouser', 'Pullover', 'Dress', 'Coat',\n",
    "               'Sandal', 'Shirt', 'Sneaker', 'Bag', 'Ankle boot']"
   ]
  },
  {
   "cell_type": "code",
   "execution_count": 12,
   "metadata": {
    "colab": {
     "base_uri": "https://localhost:8080/",
     "height": 589
    },
    "colab_type": "code",
    "executionInfo": {
     "elapsed": 2094,
     "status": "ok",
     "timestamp": 1599366549126,
     "user": {
      "displayName": "Лев Соловьев",
      "photoUrl": "",
      "userId": "03837274721491259705"
     },
     "user_tz": -300
    },
    "id": "DfOrWhVcqzMI",
    "outputId": "e0c2ba39-d88d-4de7-e8d5-33920398916f"
   },
   "outputs": [
    {
     "data": {
      "image/png": "[encoded data removed]",
      "text/plain": [
       "<Figure size 720x720 with 25 Axes>"
      ]
     },
     "metadata": {
      "tags": []
     },
     "output_type": "display_data"
    }
   ],
   "source": [
    "plt.figure(figsize=(10,10))\n",
    "for i in range(25):\n",
    "    plt.subplot(5,5,i+1)\n",
    "    plt.xticks([])\n",
    "    plt.yticks([])\n",
    "    plt.grid(False)\n",
    "    plt.imshow(train_images[i], cmap=plt.cm.binary)\n",
    "    plt.xlabel(class_names[train_labels[i]])\n",
    "plt.show()"
   ]
  },
  {
   "cell_type": "code",
   "execution_count": 13,
   "metadata": {
    "colab": {},
    "colab_type": "code",
    "executionInfo": {
     "elapsed": 902,
     "status": "ok",
     "timestamp": 1599366591015,
     "user": {
      "displayName": "Лев Соловьев",
      "photoUrl": "",
      "userId": "03837274721491259705"
     },
     "user_tz": -300
    },
    "id": "WODSo7Gnq5k9"
   },
   "outputs": [],
   "source": [
    "model = keras.Sequential([\n",
    "    keras.layers.Flatten(input_shape=(28, 28)),\n",
    "    keras.layers.Dense(128, activation='relu'),\n",
    "    keras.layers.Dense(10)\n",
    "])"
   ]
  },
  {
   "cell_type": "code",
   "execution_count": 14,
   "metadata": {
    "colab": {},
    "colab_type": "code",
    "executionInfo": {
     "elapsed": 1092,
     "status": "ok",
     "timestamp": 1599366663421,
     "user": {
      "displayName": "Лев Соловьев",
      "photoUrl": "",
      "userId": "03837274721491259705"
     },
     "user_tz": -300
    },
    "id": "zNis9WeyrW5H"
   },
   "outputs": [],
   "source": [
    "model.compile(optimizer='adam',\n",
    "              loss=tf.keras.losses.SparseCategoricalCrossentropy(from_logits=True),\n",
    "              metrics=['accuracy'])"
   ]
  },
  {
   "cell_type": "code",
   "execution_count": 15,
   "metadata": {
    "colab": {
     "base_uri": "https://localhost:8080/",
     "height": 136
    },
    "colab_type": "code",
    "executionInfo": {
     "elapsed": 9341,
     "status": "ok",
     "timestamp": 1599366747295,
     "user": {
      "displayName": "Лев Соловьев",
      "photoUrl": "",
      "userId": "03837274721491259705"
     },
     "user_tz": -300
    },
    "id": "TgGh-yR_rohh",
    "outputId": "d3856216-f2d9-4f3c-ea16-649c694b0ba1"
   },
   "outputs": [
    {
     "name": "stdout",
     "output_type": "stream",
     "text": [
      "Epoch 1/3\n",
      "1875/1875 [==============================] - 3s 1ms/step - loss: 0.5021 - accuracy: 0.8232\n",
      "Epoch 2/3\n",
      "1875/1875 [==============================] - 3s 1ms/step - loss: 0.3769 - accuracy: 0.8640\n",
      "Epoch 3/3\n",
      "1875/1875 [==============================] - 3s 1ms/step - loss: 0.3372 - accuracy: 0.8765\n"
     ]
    },
    {
     "data": {
      "text/plain": [
       "<tensorflow.python.keras.callbacks.History at 0x7f6ba1e28630>"
      ]
     },
     "execution_count": 15,
     "metadata": {
      "tags": []
     },
     "output_type": "execute_result"
    }
   ],
   "source": [
    "model.fit(train_images, train_labels, epochs=3)"
   ]
  },
  {
   "cell_type": "code",
   "execution_count": 16,
   "metadata": {
    "colab": {
     "base_uri": "https://localhost:8080/",
     "height": 68
    },
    "colab_type": "code",
    "executionInfo": {
     "elapsed": 1115,
     "status": "ok",
     "timestamp": 1599366776134,
     "user": {
      "displayName": "Лев Соловьев",
      "photoUrl": "",
      "userId": "03837274721491259705"
     },
     "user_tz": -300
    },
    "id": "o_MJ0DECr6_G",
    "outputId": "742cf9f2-c27f-4a35-c518-755ecaa54f42"
   },
   "outputs": [
    {
     "name": "stdout",
     "output_type": "stream",
     "text": [
      "313/313 - 0s - loss: 0.3715 - accuracy: 0.8618\n",
      "\n",
      "Test accuracy: 0.8618000149726868\n"
     ]
    }
   ],
   "source": [
    "test_loss, test_acc = model.evaluate(test_images,  test_labels, verbose=2)\n",
    "\n",
    "print('\\nTest accuracy:', test_acc)"
   ]
  },
  {
   "cell_type": "code",
   "execution_count": 17,
   "metadata": {
    "colab": {},
    "colab_type": "code",
    "executionInfo": {
     "elapsed": 908,
     "status": "ok",
     "timestamp": 1599366815787,
     "user": {
      "displayName": "Лев Соловьев",
      "photoUrl": "",
      "userId": "03837274721491259705"
     },
     "user_tz": -300
    },
    "id": "ncm8rjQ_sD_u"
   },
   "outputs": [],
   "source": [
    "probability_model = tf.keras.Sequential([model, \n",
    "                                         tf.keras.layers.Softmax()])"
   ]
  },
  {
   "cell_type": "code",
   "execution_count": 18,
   "metadata": {
    "colab": {},
    "colab_type": "code",
    "executionInfo": {
     "elapsed": 829,
     "status": "ok",
     "timestamp": 1599366829907,
     "user": {
      "displayName": "Лев Соловьев",
      "photoUrl": "",
      "userId": "03837274721491259705"
     },
     "user_tz": -300
    },
    "id": "gHwVL-jpsNxT"
   },
   "outputs": [],
   "source": [
    "predictions = probability_model.predict(test_images)"
   ]
  },
  {
   "cell_type": "code",
   "execution_count": 19,
   "metadata": {
    "colab": {
     "base_uri": "https://localhost:8080/",
     "height": 68
    },
    "colab_type": "code",
    "executionInfo": {
     "elapsed": 942,
     "status": "ok",
     "timestamp": 1599366840977,
     "user": {
      "displayName": "Лев Соловьев",
      "photoUrl": "",
      "userId": "03837274721491259705"
     },
     "user_tz": -300
    },
    "id": "Y8L_Nrj3sRPF",
    "outputId": "6006ac6d-cad0-4af0-b45b-dede25601a32"
   },
   "outputs": [
    {
     "data": {
      "text/plain": [
       "array([2.8328766e-06, 3.2494316e-07, 2.5728565e-07, 2.1560832e-07,\n",
       "       1.5022870e-06, 7.3177218e-02, 1.2289967e-06, 5.2003380e-02,\n",
       "       3.6912615e-04, 8.7444395e-01], dtype=float32)"
      ]
     },
     "execution_count": 19,
     "metadata": {
      "tags": []
     },
     "output_type": "execute_result"
    }
   ],
   "source": [
    "predictions[0]"
   ]
  },
  {
   "cell_type": "code",
   "execution_count": 20,
   "metadata": {
    "colab": {
     "base_uri": "https://localhost:8080/",
     "height": 35
    },
    "colab_type": "code",
    "executionInfo": {
     "elapsed": 859,
     "status": "ok",
     "timestamp": 1599366915443,
     "user": {
      "displayName": "Лев Соловьев",
      "photoUrl": "",
      "userId": "03837274721491259705"
     },
     "user_tz": -300
    },
    "id": "mkHzrPUYsT55",
    "outputId": "db3f226e-4279-43fd-9531-1d1f2af74db6"
   },
   "outputs": [
    {
     "data": {
      "application/vnd.google.colaboratory.intrinsic+json": {
       "type": "string"
      },
      "text/plain": [
       "'Ankle boot'"
      ]
     },
     "execution_count": 20,
     "metadata": {
      "tags": []
     },
     "output_type": "execute_result"
    }
   ],
   "source": [
    "class_names[np.argmax(predictions[0])]"
   ]
  },
  {
   "cell_type": "code",
   "execution_count": 21,
   "metadata": {
    "colab": {
     "base_uri": "https://localhost:8080/",
     "height": 35
    },
    "colab_type": "code",
    "executionInfo": {
     "elapsed": 947,
     "status": "ok",
     "timestamp": 1599366945338,
     "user": {
      "displayName": "Лев Соловьев",
      "photoUrl": "",
      "userId": "03837274721491259705"
     },
     "user_tz": -300
    },
    "id": "bfWrjUxBsmHH",
    "outputId": "869f2c95-e723-4688-bf52-08d2c17c963f"
   },
   "outputs": [
    {
     "data": {
      "application/vnd.google.colaboratory.intrinsic+json": {
       "type": "string"
      },
      "text/plain": [
       "'Ankle boot'"
      ]
     },
     "execution_count": 21,
     "metadata": {
      "tags": []
     },
     "output_type": "execute_result"
    }
   ],
   "source": [
    "class_names[test_labels[0]]"
   ]
  },
  {
   "cell_type": "code",
   "execution_count": 22,
   "metadata": {
    "colab": {},
    "colab_type": "code",
    "executionInfo": {
     "elapsed": 930,
     "status": "ok",
     "timestamp": 1599366964272,
     "user": {
      "displayName": "Лев Соловьев",
      "photoUrl": "",
      "userId": "03837274721491259705"
     },
     "user_tz": -300
    },
    "id": "JWeP_rwBstYr"
   },
   "outputs": [],
   "source": [
    "def plot_image(i, predictions_array, true_label, img):\n",
    "  predictions_array, true_label, img = predictions_array, true_label[i], img[i]\n",
    "  plt.grid(False)\n",
    "  plt.xticks([])\n",
    "  plt.yticks([])\n",
    "\n",
    "  plt.imshow(img, cmap=plt.cm.binary)\n",
    "\n",
    "  predicted_label = np.argmax(predictions_array)\n",
    "  if predicted_label == true_label:\n",
    "    color = 'blue'\n",
    "  else:\n",
    "    color = 'red'\n",
    "\n",
    "  plt.xlabel(\"{} {:2.0f}% ({})\".format(class_names[predicted_label],\n",
    "                                100*np.max(predictions_array),\n",
    "                                class_names[true_label]),\n",
    "                                color=color)\n",
    "\n",
    "def plot_value_array(i, predictions_array, true_label):\n",
    "  predictions_array, true_label = predictions_array, true_label[i]\n",
    "  plt.grid(False)\n",
    "  plt.xticks(range(10))\n",
    "  plt.yticks([])\n",
    "  thisplot = plt.bar(range(10), predictions_array, color=\"#777777\")\n",
    "  plt.ylim([0, 1])\n",
    "  predicted_label = np.argmax(predictions_array)\n",
    "\n",
    "  thisplot[predicted_label].set_color('red')\n",
    "  thisplot[true_label].set_color('blue')"
   ]
  },
  {
   "cell_type": "code",
   "execution_count": 23,
   "metadata": {
    "colab": {
     "base_uri": "https://localhost:8080/",
     "height": 729
    },
    "colab_type": "code",
    "executionInfo": {
     "elapsed": 3280,
     "status": "ok",
     "timestamp": 1599367004000,
     "user": {
      "displayName": "Лев Соловьев",
      "photoUrl": "",
      "userId": "03837274721491259705"
     },
     "user_tz": -300
    },
    "id": "pGTwEoyasyAn",
    "outputId": "94d02b23-84de-4c34-fe9f-903fd2902b41"
   },
   "outputs": [
    {
     "data": {
      "image/png": "[encoded data removed]",
      "text/plain": [
       "<Figure size 864x720 with 30 Axes>"
      ]
     },
     "metadata": {
      "needs_background": "light",
      "tags": []
     },
     "output_type": "display_data"
    }
   ],
   "source": [
    "num_rows = 5\n",
    "num_cols = 3\n",
    "num_images = num_rows*num_cols\n",
    "plt.figure(figsize=(2*2*num_cols, 2*num_rows))\n",
    "for i in range(num_images):\n",
    "  plt.subplot(num_rows, 2*num_cols, 2*i+1)\n",
    "  plot_image(i, predictions[i], test_labels, test_images)\n",
    "  plt.subplot(num_rows, 2*num_cols, 2*i+2)\n",
    "  plot_value_array(i, predictions[i], test_labels)\n",
    "plt.tight_layout()\n",
    "plt.show()"
   ]
  },
  {
   "cell_type": "code",
   "execution_count": 24,
   "metadata": {
    "colab": {
     "base_uri": "https://localhost:8080/",
     "height": 34
    },
    "colab_type": "code",
    "executionInfo": {
     "elapsed": 851,
     "status": "ok",
     "timestamp": 1599367207047,
     "user": {
      "displayName": "Лев Соловьев",
      "photoUrl": "",
      "userId": "03837274721491259705"
     },
     "user_tz": -300
    },
    "id": "02N3sc39s7JC",
    "outputId": "cd15a4a7-7c50-4242-a3ab-3c3cb3c937da"
   },
   "outputs": [
    {
     "name": "stdout",
     "output_type": "stream",
     "text": [
      "(28, 28)\n"
     ]
    }
   ],
   "source": [
    "img = test_images[1]\n",
    "\n",
    "print(img.shape)"
   ]
  },
  {
   "cell_type": "code",
   "execution_count": 25,
   "metadata": {
    "colab": {
     "base_uri": "https://localhost:8080/",
     "height": 34
    },
    "colab_type": "code",
    "executionInfo": {
     "elapsed": 1053,
     "status": "ok",
     "timestamp": 1599367222924,
     "user": {
      "displayName": "Лев Соловьев",
      "photoUrl": "",
      "userId": "03837274721491259705"
     },
     "user_tz": -300
    },
    "id": "-XzNqX62ttSX",
    "outputId": "3dcf797b-a252-496d-f7ff-5e916fde4c2e"
   },
   "outputs": [
    {
     "name": "stdout",
     "output_type": "stream",
     "text": [
      "(1, 28, 28)\n"
     ]
    }
   ],
   "source": [
    "img = (np.expand_dims(img,0))\n",
    "\n",
    "print(img.shape)"
   ]
  },
  {
   "cell_type": "code",
   "execution_count": 26,
   "metadata": {
    "colab": {
     "base_uri": "https://localhost:8080/",
     "height": 51
    },
    "colab_type": "code",
    "executionInfo": {
     "elapsed": 877,
     "status": "ok",
     "timestamp": 1599367235219,
     "user": {
      "displayName": "Лев Соловьев",
      "photoUrl": "",
      "userId": "03837274721491259705"
     },
     "user_tz": -300
    },
    "id": "7GHiWQvytxIQ",
    "outputId": "eed5f366-b758-4401-e78e-3b7855d7efb5"
   },
   "outputs": [
    {
     "name": "stdout",
     "output_type": "stream",
     "text": [
      "[[3.0294148e-05 1.3605663e-07 9.6293443e-01 3.7082279e-07 7.5164274e-04\n",
      "  2.5305649e-09 3.6278676e-02 3.4430696e-12 4.5331089e-06 3.0984137e-13]]\n"
     ]
    }
   ],
   "source": [
    "predictions_single = probability_model.predict(img)\n",
    "\n",
    "print(predictions_single)"
   ]
  },
  {
   "cell_type": "code",
   "execution_count": 30,
   "metadata": {
    "colab": {
     "base_uri": "https://localhost:8080/",
     "height": 300
    },
    "colab_type": "code",
    "executionInfo": {
     "elapsed": 1058,
     "status": "ok",
     "timestamp": 1599367561968,
     "user": {
      "displayName": "Лев Соловьев",
      "photoUrl": "",
      "userId": "03837274721491259705"
     },
     "user_tz": -300
    },
    "id": "GOqWAnGmt0Ke",
    "outputId": "25337363-6b41-4736-93d1-f0b7ba1dece4"
   },
   "outputs": [
    {
     "data": {
      "image/png": "[encoded data removed]",
      "text/plain": [
       "<Figure size 432x288 with 1 Axes>"
      ]
     },
     "metadata": {
      "needs_background": "light",
      "tags": []
     },
     "output_type": "display_data"
    }
   ],
   "source": [
    "plot_value_array(1, predictions_single[0], test_labels)\n",
    "_ = plt.xticks(range(10), class_names, rotation=45)"
   ]
  },
  {
   "cell_type": "code",
   "execution_count": 31,
   "metadata": {
    "colab": {
     "base_uri": "https://localhost:8080/",
     "height": 35
    },
    "colab_type": "code",
    "executionInfo": {
     "elapsed": 861,
     "status": "ok",
     "timestamp": 1599367702701,
     "user": {
      "displayName": "Лев Соловьев",
      "photoUrl": "",
      "userId": "03837274721491259705"
     },
     "user_tz": -300
    },
    "id": "w7uNmVB6uV-4",
    "outputId": "8281f73c-41ce-4ffe-b3f7-b4ba89a24fb2"
   },
   "outputs": [
    {
     "data": {
      "application/vnd.google.colaboratory.intrinsic+json": {
       "type": "string"
      },
      "text/plain": [
       "'Pullover'"
      ]
     },
     "execution_count": 31,
     "metadata": {
      "tags": []
     },
     "output_type": "execute_result"
    }
   ],
   "source": [
    "class_names[np.argmax(predictions_single[0])]"
   ]
  },
  {
   "cell_type": "code",
   "execution_count": 32,
   "metadata": {
    "colab": {
     "base_uri": "https://localhost:8080/",
     "height": 35
    },
    "colab_type": "code",
    "executionInfo": {
     "elapsed": 910,
     "status": "ok",
     "timestamp": 1599367807799,
     "user": {
      "displayName": "Лев Соловьев",
      "photoUrl": "",
      "userId": "03837274721491259705"
     },
     "user_tz": -300
    },
    "id": "cAaYSIUuvmT-",
    "outputId": "ebf31f19-7532-43c6-bd72-23bf70043e17"
   },
   "outputs": [
    {
     "data": {
      "application/vnd.google.colaboratory.intrinsic+json": {
       "type": "string"
      },
      "text/plain": [
       "'Pullover'"
      ]
     },
     "execution_count": 32,
     "metadata": {
      "tags": []
     },
     "output_type": "execute_result"
    }
   ],
   "source": [
    "class_names[test_labels[1]]"
   ]
  },
  {
   "cell_type": "code",
   "execution_count": 75,
   "metadata": {
    "colab": {
     "base_uri": "https://localhost:8080/",
     "height": 34
    },
    "colab_type": "code",
    "executionInfo": {
     "elapsed": 1937,
     "status": "ok",
     "timestamp": 1599389399919,
     "user": {
      "displayName": "Лев Соловьев",
      "photoUrl": "",
      "userId": "03837274721491259705"
     },
     "user_tz": -300
    },
    "id": "k8whTDvzdbE4",
    "outputId": "e15408a0-86da-4f77-d3c2-9d3945b0d8ea"
   },
   "outputs": [
    {
     "name": "stdout",
     "output_type": "stream",
     "text": [
      "6\n"
     ]
    }
   ],
   "source": [
    "number_of_neurons = [512, 256, 128]\n",
    "activations = ['relu', 'sigmoid']\n",
    "optimizers = ['sgd', 'rmsprop', 'adam']\n",
    "x_input = keras.layers.Input(shape=(28,28))\n",
    "models = []\n",
    "\n",
    "for activat in activations:\n",
    "  x = keras.layers.Flatten()(x_input)\n",
    "  for number in number_of_neurons:\n",
    "    x = keras.layers.Dense(number, activation=activat)(x)\n",
    "    x_output = keras.layers.Dense(10, activation='softmax')(x)\n",
    "    models.append(keras.models.Model(x_input,x_output))\n",
    "\n",
    "print(len(models))\n",
    "  "
   ]
  },
  {
   "cell_type": "code",
   "execution_count": 76,
   "metadata": {
    "colab": {
     "base_uri": "https://localhost:8080/",
     "height": 1000
    },
    "colab_type": "code",
    "executionInfo": {
     "elapsed": 2075,
     "status": "ok",
     "timestamp": 1599389403520,
     "user": {
      "displayName": "Лев Соловьев",
      "photoUrl": "",
      "userId": "03837274721491259705"
     },
     "user_tz": -300
    },
    "id": "dLznRCi5mmL5",
    "outputId": "9617dc06-e196-4b11-cf34-e46aed06ef36"
   },
   "outputs": [
    {
     "name": "stdout",
     "output_type": "stream",
     "text": [
      "Model: \"functional_253\"\n",
      "_________________________________________________________________\n",
      "Layer (type)                 Output Shape              Param #   \n",
      "=================================================================\n",
      "input_15 (InputLayer)        [(None, 28, 28)]          0         \n",
      "_________________________________________________________________\n",
      "flatten_31 (Flatten)         (None, 784)               0         \n",
      "_________________________________________________________________\n",
      "dense_254 (Dense)            (None, 512)               401920    \n",
      "_________________________________________________________________\n",
      "dense_255 (Dense)            (None, 10)                5130      \n",
      "=================================================================\n",
      "Total params: 407,050\n",
      "Trainable params: 407,050\n",
      "Non-trainable params: 0\n",
      "_________________________________________________________________\n",
      "Model: \"functional_255\"\n",
      "_________________________________________________________________\n",
      "Layer (type)                 Output Shape              Param #   \n",
      "=================================================================\n",
      "input_15 (InputLayer)        [(None, 28, 28)]          0         \n",
      "_________________________________________________________________\n",
      "flatten_31 (Flatten)         (None, 784)               0         \n",
      "_________________________________________________________________\n",
      "dense_254 (Dense)            (None, 512)               401920    \n",
      "_________________________________________________________________\n",
      "dense_256 (Dense)            (None, 256)               131328    \n",
      "_________________________________________________________________\n",
      "dense_257 (Dense)            (None, 10)                2570      \n",
      "=================================================================\n",
      "Total params: 535,818\n",
      "Trainable params: 535,818\n",
      "Non-trainable params: 0\n",
      "_________________________________________________________________\n",
      "Model: \"functional_257\"\n",
      "_________________________________________________________________\n",
      "Layer (type)                 Output Shape              Param #   \n",
      "=================================================================\n",
      "input_15 (InputLayer)        [(None, 28, 28)]          0         \n",
      "_________________________________________________________________\n",
      "flatten_31 (Flatten)         (None, 784)               0         \n",
      "_________________________________________________________________\n",
      "dense_254 (Dense)            (None, 512)               401920    \n",
      "_________________________________________________________________\n",
      "dense_256 (Dense)            (None, 256)               131328    \n",
      "_________________________________________________________________\n",
      "dense_258 (Dense)            (None, 128)               32896     \n",
      "_________________________________________________________________\n",
      "dense_259 (Dense)            (None, 10)                1290      \n",
      "=================================================================\n",
      "Total params: 567,434\n",
      "Trainable params: 567,434\n",
      "Non-trainable params: 0\n",
      "_________________________________________________________________\n",
      "Model: \"functional_259\"\n",
      "_________________________________________________________________\n",
      "Layer (type)                 Output Shape              Param #   \n",
      "=================================================================\n",
      "input_15 (InputLayer)        [(None, 28, 28)]          0         \n",
      "_________________________________________________________________\n",
      "flatten_32 (Flatten)         (None, 784)               0         \n",
      "_________________________________________________________________\n",
      "dense_260 (Dense)            (None, 512)               401920    \n",
      "_________________________________________________________________\n",
      "dense_261 (Dense)            (None, 10)                5130      \n",
      "=================================================================\n",
      "Total params: 407,050\n",
      "Trainable params: 407,050\n",
      "Non-trainable params: 0\n",
      "_________________________________________________________________\n",
      "Model: \"functional_261\"\n",
      "_________________________________________________________________\n",
      "Layer (type)                 Output Shape              Param #   \n",
      "=================================================================\n",
      "input_15 (InputLayer)        [(None, 28, 28)]          0         \n",
      "_________________________________________________________________\n",
      "flatten_32 (Flatten)         (None, 784)               0         \n",
      "_________________________________________________________________\n",
      "dense_260 (Dense)            (None, 512)               401920    \n",
      "_________________________________________________________________\n",
      "dense_262 (Dense)            (None, 256)               131328    \n",
      "_________________________________________________________________\n",
      "dense_263 (Dense)            (None, 10)                2570      \n",
      "=================================================================\n",
      "Total params: 535,818\n",
      "Trainable params: 535,818\n",
      "Non-trainable params: 0\n",
      "_________________________________________________________________\n",
      "Model: \"functional_263\"\n",
      "_________________________________________________________________\n",
      "Layer (type)                 Output Shape              Param #   \n",
      "=================================================================\n",
      "input_15 (InputLayer)        [(None, 28, 28)]          0         \n",
      "_________________________________________________________________\n",
      "flatten_32 (Flatten)         (None, 784)               0         \n",
      "_________________________________________________________________\n",
      "dense_260 (Dense)            (None, 512)               401920    \n",
      "_________________________________________________________________\n",
      "dense_262 (Dense)            (None, 256)               131328    \n",
      "_________________________________________________________________\n",
      "dense_264 (Dense)            (None, 128)               32896     \n",
      "_________________________________________________________________\n",
      "dense_265 (Dense)            (None, 10)                1290      \n",
      "=================================================================\n",
      "Total params: 567,434\n",
      "Trainable params: 567,434\n",
      "Non-trainable params: 0\n",
      "_________________________________________________________________\n"
     ]
    }
   ],
   "source": [
    "for  model in models:\n",
    "  model.summary()\n"
   ]
  },
  {
   "cell_type": "code",
   "execution_count": 78,
   "metadata": {
    "colab": {},
    "colab_type": "code",
    "executionInfo": {
     "elapsed": 1413,
     "status": "ok",
     "timestamp": 1599389666572,
     "user": {
      "displayName": "Лев Соловьев",
      "photoUrl": "",
      "userId": "03837274721491259705"
     },
     "user_tz": -300
    },
    "id": "A9VAmlDzxb_3"
   },
   "outputs": [],
   "source": [
    "models1 = models[:]\n",
    "models2 = models[:]\n",
    "models3 = models[:]\n",
    "\n",
    "for i in range(len(models)):\n",
    "  models1[i].compile(optimizer='sgd',\n",
    "                loss=tf.keras.losses.SparseCategoricalCrossentropy(from_logits=True),\n",
    "                metrics=['accuracy'])\n",
    "  models2[i].compile(optimizer='rmsprop',\n",
    "              loss=tf.keras.losses.SparseCategoricalCrossentropy(from_logits=True),\n",
    "              metrics=['accuracy'])\n",
    "  models3[i].compile(optimizer='adam',\n",
    "              loss=tf.keras.losses.SparseCategoricalCrossentropy(from_logits=True),\n",
    "              metrics=['accuracy'])"
   ]
  },
  {
   "cell_type": "code",
   "execution_count": 81,
   "metadata": {
    "colab": {
     "base_uri": "https://localhost:8080/",
     "height": 1000
    },
    "colab_type": "code",
    "executionInfo": {
     "elapsed": 425281,
     "status": "ok",
     "timestamp": 1599390624651,
     "user": {
      "displayName": "Лев Соловьев",
      "photoUrl": "",
      "userId": "03837274721491259705"
     },
     "user_tz": -300
    },
    "id": "pxzyJOhM3Jeb",
    "outputId": "63769fee-da91-4331-9f13-03163bae44ab"
   },
   "outputs": [
    {
     "name": "stdout",
     "output_type": "stream",
     "text": [
      "Model: \"functional_253\"\n",
      "_________________________________________________________________\n",
      "Layer (type)                 Output Shape              Param #   \n",
      "=================================================================\n",
      "input_15 (InputLayer)        [(None, 28, 28)]          0         \n",
      "_________________________________________________________________\n",
      "flatten_31 (Flatten)         (None, 784)               0         \n",
      "_________________________________________________________________\n",
      "dense_254 (Dense)            (None, 512)               401920    \n",
      "_________________________________________________________________\n",
      "dense_255 (Dense)            (None, 10)                5130      \n",
      "=================================================================\n",
      "Total params: 407,050\n",
      "Trainable params: 407,050\n",
      "Non-trainable params: 0\n",
      "_________________________________________________________________\n",
      "optimizer=sgd model: 0\n",
      "Epoch 1/3\n",
      "1875/1875 [==============================] - 6s 3ms/step - loss: 1.7352 - accuracy: 0.7282\n",
      "Epoch 2/3\n",
      "1875/1875 [==============================] - 6s 3ms/step - loss: 1.6284 - accuracy: 0.8328\n",
      "Epoch 3/3\n",
      "1875/1875 [==============================] - 6s 3ms/step - loss: 1.6102 - accuracy: 0.8511\n",
      "optimizer=rmsprop model: 0\n",
      "Epoch 1/3\n",
      "1875/1875 [==============================] - 6s 3ms/step - loss: 1.6024 - accuracy: 0.8588\n",
      "Epoch 2/3\n",
      "1875/1875 [==============================] - 6s 3ms/step - loss: 1.5990 - accuracy: 0.8616\n",
      "Epoch 3/3\n",
      "1875/1875 [==============================] - 6s 3ms/step - loss: 1.5919 - accuracy: 0.8694\n",
      "optimizer=adam model: 0\n",
      "Epoch 1/3\n",
      "1875/1875 [==============================] - 6s 3ms/step - loss: 1.5908 - accuracy: 0.8700\n",
      "Epoch 2/3\n",
      "1875/1875 [==============================] - 6s 3ms/step - loss: 1.5876 - accuracy: 0.8735\n",
      "Epoch 3/3\n",
      "1875/1875 [==============================] - 6s 3ms/step - loss: 1.5833 - accuracy: 0.8774\n",
      "Model: \"functional_255\"\n",
      "_________________________________________________________________\n",
      "Layer (type)                 Output Shape              Param #   \n",
      "=================================================================\n",
      "input_15 (InputLayer)        [(None, 28, 28)]          0         \n",
      "_________________________________________________________________\n",
      "flatten_31 (Flatten)         (None, 784)               0         \n",
      "_________________________________________________________________\n",
      "dense_254 (Dense)            (None, 512)               401920    \n",
      "_________________________________________________________________\n",
      "dense_256 (Dense)            (None, 256)               131328    \n",
      "_________________________________________________________________\n",
      "dense_257 (Dense)            (None, 10)                2570      \n",
      "=================================================================\n",
      "Total params: 535,818\n",
      "Trainable params: 535,818\n",
      "Non-trainable params: 0\n",
      "_________________________________________________________________\n",
      "optimizer=sgd model: 1\n",
      "Epoch 1/3\n",
      "1875/1875 [==============================] - 8s 4ms/step - loss: 1.6019 - accuracy: 0.8594\n",
      "Epoch 2/3\n",
      "1875/1875 [==============================] - 8s 4ms/step - loss: 1.5931 - accuracy: 0.8678\n",
      "Epoch 3/3\n",
      "1875/1875 [==============================] - 8s 4ms/step - loss: 1.5914 - accuracy: 0.8694\n",
      "optimizer=rmsprop model: 1\n",
      "Epoch 1/3\n",
      "1875/1875 [==============================] - 8s 4ms/step - loss: 1.5912 - accuracy: 0.8696\n",
      "Epoch 2/3\n",
      "1875/1875 [==============================] - 8s 4ms/step - loss: 1.5952 - accuracy: 0.8656\n",
      "Epoch 3/3\n",
      "1875/1875 [==============================] - 8s 4ms/step - loss: 1.5933 - accuracy: 0.8676\n",
      "optimizer=adam model: 1\n",
      "Epoch 1/3\n",
      "1875/1875 [==============================] - 8s 4ms/step - loss: 1.5969 - accuracy: 0.8641\n",
      "Epoch 2/3\n",
      "1875/1875 [==============================] - 8s 4ms/step - loss: 1.6021 - accuracy: 0.8590\n",
      "Epoch 3/3\n",
      "1875/1875 [==============================] - 8s 4ms/step - loss: 1.5961 - accuracy: 0.8648\n",
      "Model: \"functional_257\"\n",
      "_________________________________________________________________\n",
      "Layer (type)                 Output Shape              Param #   \n",
      "=================================================================\n",
      "input_15 (InputLayer)        [(None, 28, 28)]          0         \n",
      "_________________________________________________________________\n",
      "flatten_31 (Flatten)         (None, 784)               0         \n",
      "_________________________________________________________________\n",
      "dense_254 (Dense)            (None, 512)               401920    \n",
      "_________________________________________________________________\n",
      "dense_256 (Dense)            (None, 256)               131328    \n",
      "_________________________________________________________________\n",
      "dense_258 (Dense)            (None, 128)               32896     \n",
      "_________________________________________________________________\n",
      "dense_259 (Dense)            (None, 10)                1290      \n",
      "=================================================================\n",
      "Total params: 567,434\n",
      "Trainable params: 567,434\n",
      "Non-trainable params: 0\n",
      "_________________________________________________________________\n",
      "optimizer=sgd model: 2\n",
      "Epoch 1/3\n",
      "1875/1875 [==============================] - 9s 5ms/step - loss: 1.7150 - accuracy: 0.7456\n",
      "Epoch 2/3\n",
      "1875/1875 [==============================] - 9s 5ms/step - loss: 1.6145 - accuracy: 0.8464\n",
      "Epoch 3/3\n",
      "1875/1875 [==============================] - 9s 5ms/step - loss: 1.6266 - accuracy: 0.8344\n",
      "optimizer=rmsprop model: 2\n",
      "Epoch 1/3\n",
      "1875/1875 [==============================] - 9s 5ms/step - loss: 1.6160 - accuracy: 0.8451\n",
      "Epoch 2/3\n",
      "1875/1875 [==============================] - 9s 5ms/step - loss: 1.6360 - accuracy: 0.8250\n",
      "Epoch 3/3\n",
      "1875/1875 [==============================] - 9s 5ms/step - loss: 1.6236 - accuracy: 0.8375\n",
      "optimizer=adam model: 2\n",
      "Epoch 1/3\n",
      "1875/1875 [==============================] - 9s 5ms/step - loss: 1.6216 - accuracy: 0.8395\n",
      "Epoch 2/3\n",
      "1875/1875 [==============================] - 9s 5ms/step - loss: 1.6349 - accuracy: 0.8262\n",
      "Epoch 3/3\n",
      "1875/1875 [==============================] - 9s 5ms/step - loss: 1.6292 - accuracy: 0.8319\n",
      "Model: \"functional_259\"\n",
      "_________________________________________________________________\n",
      "Layer (type)                 Output Shape              Param #   \n",
      "=================================================================\n",
      "input_15 (InputLayer)        [(None, 28, 28)]          0         \n",
      "_________________________________________________________________\n",
      "flatten_32 (Flatten)         (None, 784)               0         \n",
      "_________________________________________________________________\n",
      "dense_260 (Dense)            (None, 512)               401920    \n",
      "_________________________________________________________________\n",
      "dense_261 (Dense)            (None, 10)                5130      \n",
      "=================================================================\n",
      "Total params: 407,050\n",
      "Trainable params: 407,050\n",
      "Non-trainable params: 0\n",
      "_________________________________________________________________\n",
      "optimizer=sgd model: 3\n",
      "Epoch 1/3\n",
      "1875/1875 [==============================] - 6s 3ms/step - loss: 1.7263 - accuracy: 0.7447\n",
      "Epoch 2/3\n",
      "1875/1875 [==============================] - 8s 4ms/step - loss: 1.6709 - accuracy: 0.7923\n",
      "Epoch 3/3\n",
      "1875/1875 [==============================] - 6s 3ms/step - loss: 1.6100 - accuracy: 0.8539\n",
      "optimizer=rmsprop model: 3\n",
      "Epoch 1/3\n",
      "1875/1875 [==============================] - 6s 3ms/step - loss: 1.5973 - accuracy: 0.8660\n",
      "Epoch 2/3\n",
      "1875/1875 [==============================] - 6s 3ms/step - loss: 1.5896 - accuracy: 0.8736\n",
      "Epoch 3/3\n",
      "1875/1875 [==============================] - 6s 3ms/step - loss: 1.5852 - accuracy: 0.8782\n",
      "optimizer=adam model: 3\n",
      "Epoch 1/3\n",
      "1875/1875 [==============================] - 6s 3ms/step - loss: 1.5799 - accuracy: 0.8828\n",
      "Epoch 2/3\n",
      "1875/1875 [==============================] - 6s 3ms/step - loss: 1.5769 - accuracy: 0.8860\n",
      "Epoch 3/3\n",
      "1875/1875 [==============================] - 6s 3ms/step - loss: 1.5722 - accuracy: 0.8904\n",
      "Model: \"functional_261\"\n",
      "_________________________________________________________________\n",
      "Layer (type)                 Output Shape              Param #   \n",
      "=================================================================\n",
      "input_15 (InputLayer)        [(None, 28, 28)]          0         \n",
      "_________________________________________________________________\n",
      "flatten_32 (Flatten)         (None, 784)               0         \n",
      "_________________________________________________________________\n",
      "dense_260 (Dense)            (None, 512)               401920    \n",
      "_________________________________________________________________\n",
      "dense_262 (Dense)            (None, 256)               131328    \n",
      "_________________________________________________________________\n",
      "dense_263 (Dense)            (None, 10)                2570      \n",
      "=================================================================\n",
      "Total params: 535,818\n",
      "Trainable params: 535,818\n",
      "Non-trainable params: 0\n",
      "_________________________________________________________________\n",
      "optimizer=sgd model: 4\n",
      "Epoch 1/3\n",
      "1875/1875 [==============================] - 8s 4ms/step - loss: 1.6479 - accuracy: 0.8201\n",
      "Epoch 2/3\n",
      "1875/1875 [==============================] - 8s 4ms/step - loss: 1.6149 - accuracy: 0.8477\n",
      "Epoch 3/3\n",
      "1875/1875 [==============================] - 8s 4ms/step - loss: 1.5765 - accuracy: 0.8856\n",
      "optimizer=rmsprop model: 4\n",
      "Epoch 1/3\n",
      "1875/1875 [==============================] - 8s 4ms/step - loss: 1.5726 - accuracy: 0.8890\n",
      "Epoch 2/3\n",
      "1875/1875 [==============================] - 8s 4ms/step - loss: 1.5693 - accuracy: 0.8924\n",
      "Epoch 3/3\n",
      "1875/1875 [==============================] - 8s 4ms/step - loss: 1.5676 - accuracy: 0.8936\n",
      "optimizer=adam model: 4\n",
      "Epoch 1/3\n",
      "1875/1875 [==============================] - 8s 4ms/step - loss: 1.5659 - accuracy: 0.8955\n",
      "Epoch 2/3\n",
      "1875/1875 [==============================] - 8s 4ms/step - loss: 1.5636 - accuracy: 0.8980\n",
      "Epoch 3/3\n",
      "1875/1875 [==============================] - 9s 5ms/step - loss: 1.5614 - accuracy: 0.9000\n",
      "Model: \"functional_263\"\n",
      "_________________________________________________________________\n",
      "Layer (type)                 Output Shape              Param #   \n",
      "=================================================================\n",
      "input_15 (InputLayer)        [(None, 28, 28)]          0         \n",
      "_________________________________________________________________\n",
      "flatten_32 (Flatten)         (None, 784)               0         \n",
      "_________________________________________________________________\n",
      "dense_260 (Dense)            (None, 512)               401920    \n",
      "_________________________________________________________________\n",
      "dense_262 (Dense)            (None, 256)               131328    \n",
      "_________________________________________________________________\n",
      "dense_264 (Dense)            (None, 128)               32896     \n",
      "_________________________________________________________________\n",
      "dense_265 (Dense)            (None, 10)                1290      \n",
      "=================================================================\n",
      "Total params: 567,434\n",
      "Trainable params: 567,434\n",
      "Non-trainable params: 0\n",
      "_________________________________________________________________\n",
      "optimizer=sgd model: 5\n",
      "Epoch 1/3\n",
      "1875/1875 [==============================] - 9s 5ms/step - loss: 1.5829 - accuracy: 0.8905\n",
      "Epoch 2/3\n",
      "1875/1875 [==============================] - 9s 5ms/step - loss: 1.5612 - accuracy: 0.9007\n",
      "Epoch 3/3\n",
      "1875/1875 [==============================] - 9s 5ms/step - loss: 1.5593 - accuracy: 0.9022\n",
      "optimizer=rmsprop model: 5\n",
      "Epoch 1/3\n",
      "1875/1875 [==============================] - 9s 5ms/step - loss: 1.5589 - accuracy: 0.9022\n",
      "Epoch 2/3\n",
      "1875/1875 [==============================] - 9s 5ms/step - loss: 1.5592 - accuracy: 0.9024\n",
      "Epoch 3/3\n",
      "1875/1875 [==============================] - 9s 5ms/step - loss: 1.5586 - accuracy: 0.9028\n",
      "optimizer=adam model: 5\n",
      "Epoch 1/3\n",
      "1875/1875 [==============================] - 9s 5ms/step - loss: 1.5581 - accuracy: 0.9028\n",
      "Epoch 2/3\n",
      "1875/1875 [==============================] - 9s 5ms/step - loss: 1.5571 - accuracy: 0.9039\n",
      "Epoch 3/3\n",
      "1875/1875 [==============================] - 9s 5ms/step - loss: 1.5574 - accuracy: 0.9036\n"
     ]
    }
   ],
   "source": [
    "hist1 = []\n",
    "hist2 = []\n",
    "hist3 = []\n",
    "\n",
    "for i in range(len(models)):\n",
    "  models[i].summary()\n",
    "  print(f'optimizer=sgd model: {i}')\n",
    "  hist1.append(models1[i].fit(train_images, train_labels, epochs=3))\n",
    "  print(f'optimizer=rmsprop model: {i}')\n",
    "  hist2.append(models2[i].fit(train_images, train_labels, epochs=3))\n",
    "  print(f'optimizer=adam model: {i}')\n",
    "  hist3.append(models3[i].fit(train_images, train_labels, epochs=3))\n",
    "  i += 1"
   ]
  },
  {
   "cell_type": "code",
   "execution_count": 82,
   "metadata": {
    "colab": {},
    "colab_type": "code",
    "executionInfo": {
     "elapsed": 861,
     "status": "ok",
     "timestamp": 1599390925257,
     "user": {
      "displayName": "Лев Соловьев",
      "photoUrl": "",
      "userId": "03837274721491259705"
     },
     "user_tz": -300
    },
    "id": "uVPrX1ZFHpYm"
   },
   "outputs": [],
   "source": [
    "# Сохраним лучшую модель\n",
    "models3[5].save_weights('best_model.h5')"
   ]
  },
  {
   "cell_type": "code",
   "execution_count": 83,
   "metadata": {
    "colab": {},
    "colab_type": "code",
    "executionInfo": {
     "elapsed": 1047,
     "status": "ok",
     "timestamp": 1599391085940,
     "user": {
      "displayName": "Лев Соловьев",
      "photoUrl": "",
      "userId": "03837274721491259705"
     },
     "user_tz": -300
    },
    "id": "R_4ZVSFpIL4H"
   },
   "outputs": [],
   "source": [
    "model3 = models3[5]"
   ]
  },
  {
   "cell_type": "code",
   "execution_count": 84,
   "metadata": {
    "colab": {},
    "colab_type": "code",
    "executionInfo": {
     "elapsed": 1873,
     "status": "ok",
     "timestamp": 1599391109061,
     "user": {
      "displayName": "Лев Соловьев",
      "photoUrl": "",
      "userId": "03837274721491259705"
     },
     "user_tz": -300
    },
    "id": "BnLjULSgIzEC"
   },
   "outputs": [],
   "source": [
    "y_pred = model3.predict(test_images)\n",
    "y_pred_arg = np.argmax(y_pred, axis=1)"
   ]
  },
  {
   "cell_type": "code",
   "execution_count": 85,
   "metadata": {
    "colab": {
     "base_uri": "https://localhost:8080/",
     "height": 35
    },
    "colab_type": "code",
    "executionInfo": {
     "elapsed": 833,
     "status": "ok",
     "timestamp": 1599391251432,
     "user": {
      "displayName": "Лев Соловьев",
      "photoUrl": "",
      "userId": "03837274721491259705"
     },
     "user_tz": -300
    },
    "id": "4qqzSGF8I4fk",
    "outputId": "454b463e-3b14-4055-d322-97f8ff4e96b1"
   },
   "outputs": [
    {
     "data": {
      "application/vnd.google.colaboratory.intrinsic+json": {
       "type": "string"
      },
      "text/plain": [
       "'Ankle boot'"
      ]
     },
     "execution_count": 85,
     "metadata": {
      "tags": []
     },
     "output_type": "execute_result"
    }
   ],
   "source": [
    "# Посмотрим какой метке соответствует максимальное значение\n",
    "class_names[np.argmax(predictions[0])]"
   ]
  },
  {
   "cell_type": "code",
   "execution_count": 86,
   "metadata": {
    "colab": {},
    "colab_type": "code",
    "executionInfo": {
     "elapsed": 873,
     "status": "ok",
     "timestamp": 1599391277828,
     "user": {
      "displayName": "Лев Соловьев",
      "photoUrl": "",
      "userId": "03837274721491259705"
     },
     "user_tz": -300
    },
    "id": "YShsNT9bJbgV"
   },
   "outputs": [],
   "source": [
    "# Функция для показа картинки\n",
    "def plot_image(i, predictions_array, true_label, img):\n",
    "  predictions_array, true_label, img = predictions_array[i], true_label[i], img[i]\n",
    "  plt.grid(False)\n",
    "  plt.xticks([])\n",
    "  plt.yticks([])\n",
    "\n",
    "  plt.imshow(img, cmap=plt.cm.binary)\n",
    "\n",
    "  predicted_label = np.argmax(predictions_array)\n",
    "  if predicted_label == true_label:\n",
    "    color = 'blue'\n",
    "  else:\n",
    "    color = 'red'\n",
    "\n",
    "  plt.xlabel(\"{} {:2.0f}% ({})\".format(class_names[predicted_label],\n",
    "                                100*np.max(predictions_array),\n",
    "                                class_names[true_label]),\n",
    "                                color=color)\n",
    "  \n",
    "# Функция для показа результатов предсказания\n",
    "def plot_value_array(i, predictions_array, true_label):\n",
    "  predictions_array, true_label = predictions_array[i], true_label[i]\n",
    "  plt.grid(False)\n",
    "  plt.xticks([])\n",
    "  plt.yticks([])\n",
    "  thisplot = plt.bar(range(10), predictions_array, color=\"#777777\")\n",
    "  plt.ylim([0, 1])\n",
    "  predicted_label = np.argmax(predictions_array)\n",
    "\n",
    "  thisplot[predicted_label].set_color('red')\n",
    "  thisplot[true_label].set_color('blue')"
   ]
  },
  {
   "cell_type": "code",
   "execution_count": 87,
   "metadata": {
    "colab": {
     "base_uri": "https://localhost:8080/",
     "height": 589
    },
    "colab_type": "code",
    "executionInfo": {
     "elapsed": 2720,
     "status": "ok",
     "timestamp": 1599391299628,
     "user": {
      "displayName": "Лев Соловьев",
      "photoUrl": "",
      "userId": "03837274721491259705"
     },
     "user_tz": -300
    },
    "id": "Ow5_el9tJh8s",
    "outputId": "a8e04898-c6f4-4f78-f366-6a57b3defad3"
   },
   "outputs": [
    {
     "data": {
      "image/png": "[encoded data removed]",
      "text/plain": [
       "<Figure size 864x720 with 30 Axes>"
      ]
     },
     "metadata": {
      "tags": []
     },
     "output_type": "display_data"
    }
   ],
   "source": [
    "# Отображаем первые X тестовых изображений, их предсказанную и настоящую метки.\n",
    "# Корректные предсказания окрашиваем в синий цвет, ошибочные в красный.\n",
    "num_rows = 5\n",
    "num_cols = 3\n",
    "num_images = num_rows*num_cols\n",
    "plt.figure(figsize=(2*2*num_cols, 2*num_rows))\n",
    "for i in range(num_images):\n",
    "  plt.subplot(num_rows, 2*num_cols, 2*i+1)\n",
    "  plot_image(i, predictions, test_labels, test_images)\n",
    "  plt.subplot(num_rows, 2*num_cols, 2*i+2)\n",
    "  plot_value_array(i, predictions, test_labels)\n",
    "plt.show()"
   ]
  },
  {
   "cell_type": "code",
   "execution_count": null,
   "metadata": {
    "colab": {},
    "colab_type": "code",
    "id": "QNc5Lg0hJm02"
   },
   "outputs": [],
   "source": []
  }
 ],
 "metadata": {
  "colab": {
   "authorship_tag": "ABX9TyOE1fYbvyoN4WlS9dn7UQyE",
   "collapsed_sections": [],
   "name": "task_3.ipynb",
   "provenance": []
  },
  "kernelspec": {
   "display_name": "Python 3",
   "language": "python",
   "name": "python3"
  },
  "language_info": {
   "codemirror_mode": {
    "name": "ipython",
    "version": 3
   },
   "file_extension": ".py",
   "mimetype": "text/x-python",
   "name": "python",
   "nbconvert_exporter": "python",
   "pygments_lexer": "ipython3",
   "version": "3.7.4"
  }
 },
 "nbformat": 4,
 "nbformat_minor": 1
}
